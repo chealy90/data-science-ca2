{
 "cells": [
  {
   "cell_type": "markdown",
   "id": "e2e40226",
   "metadata": {},
   "source": [
    "# Data Science Project\n",
    "## Christopher Healy D00270638\n",
    "\n",
    "## Using Data Science to predict the popularity of Reddit posts."
   ]
  },
  {
   "cell_type": "markdown",
   "id": "2aced90f",
   "metadata": {},
   "source": [
    "# Step 1: Business Understanding\n",
    "Reddit is a highly popular social media platform that is used by a wide range of individuals, entrepeneurs, and businesses. It's popularity offers the potential of a global reach to posters across an extremely diverse range of topics.\n",
    "\n",
    "### Audience:\n",
    "Many people use Reddit as a means to promote themselves or their product. This includes but is not limited to:\n",
    "- Entrepeneurs advertising products to niche markets.\n",
    "- Musicians/performers trying to build a platform.\n",
    "- \"Influencers\" trying to gain recognition.\n",
    "\n",
    "### Defining Success:\n",
    "The success/popularity of a Reddit post can be measured with \"Karma\" which corresponds to the total sum of ratings on a post, i.e. upvotes minus downvotes.\n",
    "\n",
    "### Aims of the project.\n",
    "Determining how a Reddit post's popularity is influenced can allow these groups to achieve the maximum reach possible. By analysing the information associated with Reddit posts and comparing it to their popularity, I hope to answer:\n",
    "1. How is post length connected to post success?\n",
    "2. Is date/time of posting relevant to a post's success.\n",
    "3. How does the \"mood\" found in a post's body influence its success?\n",
    "4. Are there any other factors that affect how a Reddit post will be received?\n"
   ]
  },
  {
   "cell_type": "markdown",
   "id": "23cdd755",
   "metadata": {},
   "source": []
  },
  {
   "cell_type": "markdown",
   "id": "72787edf",
   "metadata": {},
   "source": []
  }
 ],
 "metadata": {
  "kernelspec": {
   "display_name": "Python 3",
   "language": "python",
   "name": "python3"
  },
  "language_info": {
   "name": "python",
   "version": "3.11.5"
  }
 },
 "nbformat": 4,
 "nbformat_minor": 5
}
