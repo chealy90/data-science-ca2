{
 "cells": [
  {
   "cell_type": "markdown",
   "id": "13b2dcf4",
   "metadata": {},
   "source": [
    "# Data Mining\n",
    "To use praw:\n",
    "`pip install praw`"
   ]
  },
  {
   "cell_type": "code",
   "execution_count": 3,
   "id": "29971bd8",
   "metadata": {},
   "outputs": [
    {
     "name": "stdout",
     "output_type": "stream",
     "text": [
      "For Anyone asking \"What Breed is my cat?\"\n",
      "Discussion Thread - Ask, Share, and Discuss Anything About Cats.\n",
      "Woke up at 2 am and rolled over…\n",
      "Cat brings my bra to his food bowl\n",
      "After almost two years, they’ve finally decided that they like one another.\n",
      "His first night off the street\n",
      "Well that escalated quickly\n",
      "What do you think of my cat?\n",
      "Why does my friend's cat do that? I hardly ever see him, but when I come to visit, he never leaves my side. I only have dogs but this little fella makes me want to have a cat someday lol\n",
      "My cat constantly sleeps up here beside me. Does he think he owns me?\n"
     ]
    }
   ],
   "source": [
    "import praw\n",
    "from dotenv import load_dotenv\n",
    "import os\n",
    "\n",
    "# env variables\n",
    "load_dotenv()\n",
    "APP_NAME = os.getenv(\"APP_NAME\")\n",
    "SECRET = os.getenv(\"SECRET\")\n",
    "CLIENT_ID = os.getenv(\"CLIENT_ID\")\n",
    "USERNAME = os.getenv(\"USERNAME\")\n",
    "\n",
    "USER_AGENT = f\"windows:{APP_NAME}:v1.0 (by /u/{USERNAME})\"\n",
    "\n",
    "\n",
    "reddit = praw.Reddit(\n",
    "    client_id=CLIENT_ID,\n",
    "    client_secret=SECRET,\n",
    "    user_agent=USER_AGENT\n",
    ")\n",
    "\n",
    "for submission in reddit.subreddit(\"cats\").hot(limit=10):\n",
    "    print(submission.title)\n"
   ]
  },
  {
   "cell_type": "code",
   "execution_count": null,
   "id": "3d322e63",
   "metadata": {},
   "outputs": [],
   "source": []
  }
 ],
 "metadata": {
  "kernelspec": {
   "display_name": "Python 3",
   "language": "python",
   "name": "python3"
  },
  "language_info": {
   "codemirror_mode": {
    "name": "ipython",
    "version": 3
   },
   "file_extension": ".py",
   "mimetype": "text/x-python",
   "name": "python",
   "nbconvert_exporter": "python",
   "pygments_lexer": "ipython3",
   "version": "3.11.5"
  }
 },
 "nbformat": 4,
 "nbformat_minor": 5
}
